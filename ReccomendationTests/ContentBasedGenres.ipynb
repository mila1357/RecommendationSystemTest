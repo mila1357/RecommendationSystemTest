{
 "cells": [
  {
   "cell_type": "code",
   "execution_count": 13,
   "id": "7f544376-b159-426a-bfbf-4e0e248942c9",
   "metadata": {},
   "outputs": [],
   "source": [
    "import pandas as pd\n",
    "from sklearn.metrics.pairwise import cosine_similarity"
   ]
  },
  {
   "cell_type": "code",
   "execution_count": 25,
   "id": "a9a49869-19b8-4373-95a0-facccabe78af",
   "metadata": {},
   "outputs": [
    {
     "name": "stdout",
     "output_type": "stream",
     "text": [
      "      Unnamed: 0                                               Book  \\\n",
      "0              0                              To Kill a Mockingbird   \n",
      "1              1  Harry Potter and the Philosopher’s Stone (Harr...   \n",
      "2              2                                Pride and Prejudice   \n",
      "3              3                          The Diary of a Young Girl   \n",
      "4              4                                        Animal Farm   \n",
      "...          ...                                                ...   \n",
      "9995        9995                    Breeders (Breeders Trilogy, #1)   \n",
      "9996        9996                                             Dynamo   \n",
      "9997        9997                              The Republic of Trees   \n",
      "9998        9998                     Waking Up (Healing Hearts, #1)   \n",
      "9999        9999                 Bits and Pieces: Tales and Sonnets   \n",
      "\n",
      "                 Author                                        Description  \\\n",
      "0            Harper Lee  The unforgettable novel of a childhood in a sl...   \n",
      "1          J.K. Rowling  Harry Potter thinks he is an ordinary boy - un...   \n",
      "2           Jane Austen  Since its immediate success in 1813, Pride and...   \n",
      "3            Anne Frank  Discovered in the attic in which she spent the...   \n",
      "4         George Orwell  Librarian's note: There is an Alternate Cover ...   \n",
      "...                 ...                                                ...   \n",
      "9995     Ashley Quigley  How far would you go? If human society was gen...   \n",
      "9996  Eleanor Gustafson  Jeth Cavanaugh is searching for a new life alo...   \n",
      "9997         Sam Taylor  This dark fable tells the story of four Englis...   \n",
      "9998         Renee Dyer  For Adriana Monroe life couldn’t get any bette...   \n",
      "9999        Jas T. Ward  After demands of thousands of fans in various ...   \n",
      "\n",
      "                                                 Genres  Avg_Rating  \\\n",
      "0     [Classics, Fiction, Historical Fiction, School...        4.27   \n",
      "1     [Fantasy, Fiction, Young Adult, Magic, Childre...        4.47   \n",
      "2     [Classics, Fiction, Romance, Historical Fictio...        4.28   \n",
      "3     [Classics, Nonfiction, History, Biography, Mem...        4.18   \n",
      "4     [Classics, Fiction, Dystopia, Fantasy, Politic...        3.98   \n",
      "...                                                 ...         ...   \n",
      "9995  [Dystopia, Science Fiction, Post Apocalyptic, ...        3.44   \n",
      "9996                                                 []        4.23   \n",
      "9997         [Fiction, Horror, Dystopia, Coming Of Age]        3.29   \n",
      "9998  [New Adult, Romance, Contemporary Romance, Con...        4.13   \n",
      "9999                                                 []        5.00   \n",
      "\n",
      "     Num_Ratings                                                URL  \\\n",
      "0      5,691,311  https://www.goodreads.com/book/show/2657.To_Ki...   \n",
      "1      9,278,135  https://www.goodreads.com/book/show/72193.Harr...   \n",
      "2      3,944,155  https://www.goodreads.com/book/show/1885.Pride...   \n",
      "3      3,488,438  https://www.goodreads.com/book/show/48855.The_...   \n",
      "4      3,575,172  https://www.goodreads.com/book/show/170448.Ani...   \n",
      "...          ...                                                ...   \n",
      "9995         276  https://www.goodreads.com/book/show/22085400-b...   \n",
      "9996          60  https://www.goodreads.com/book/show/20862902-d...   \n",
      "9997         383  https://www.goodreads.com/book/show/891262.The...   \n",
      "9998         263  https://www.goodreads.com/book/show/19347252-w...   \n",
      "9999          36  https://www.goodreads.com/book/show/21302552-b...   \n",
      "\n",
      "      Sustainability  Economics  ...  Animal Fiction  Alternate History  \\\n",
      "0                  0          0  ...               0                  0   \n",
      "1                  0          0  ...               0                  0   \n",
      "2                  0          0  ...               0                  0   \n",
      "3                  0          0  ...               0                  0   \n",
      "4                  0          0  ...               0                  0   \n",
      "...              ...        ...  ...             ...                ...   \n",
      "9995               0          0  ...               0                  0   \n",
      "9996               0          0  ...               0                  0   \n",
      "9997               0          0  ...               0                  0   \n",
      "9998               0          0  ...               0                  0   \n",
      "9999               0          0  ...               0                  0   \n",
      "\n",
      "      Gender  Mountaineering  Travel  Audiobook  Fat Studies  \\\n",
      "0          0               0       0          0            0   \n",
      "1          0               0       0          0            0   \n",
      "2          0               0       0          1            0   \n",
      "3          0               0       0          0            0   \n",
      "4          0               0       0          0            0   \n",
      "...      ...             ...     ...        ...          ...   \n",
      "9995       0               0       0          0            0   \n",
      "9996       0               0       0          0            0   \n",
      "9997       0               0       0          0            0   \n",
      "9998       0               0       0          0            0   \n",
      "9999       0               0       0          0            0   \n",
      "\n",
      "      Christian Fantasy  Christian Fiction  Star Trek  \n",
      "0                     0                  0          0  \n",
      "1                     0                  0          0  \n",
      "2                     0                  0          0  \n",
      "3                     0                  0          0  \n",
      "4                     0                  0          0  \n",
      "...                 ...                ...        ...  \n",
      "9995                  0                  0          0  \n",
      "9996                  0                  0          0  \n",
      "9997                  0                  0          0  \n",
      "9998                  0                  0          0  \n",
      "9999                  0                  0          0  \n",
      "\n",
      "[10000 rows x 625 columns]\n"
     ]
    }
   ],
   "source": [
    "df = pd.read_csv('goodreads_data.csv')\n",
    "\n",
    "df['Genres'] = df['Genres'].apply(ast.literal_eval)\n",
    "\n",
    "all_genres = set([genre for sublist in df['Genres'] for genre in sublist])\n",
    "\n",
    "genre_columns = pd.DataFrame({genre: df['Genres'].apply(lambda x: 1 if genre in x else 0) for genre in all_genres})\n",
    "\n",
    "df = pd.concat([df, genre_columns], axis=1)\n",
    "\n",
    "print(df)"
   ]
  },
  {
   "cell_type": "code",
   "execution_count": 31,
   "id": "6ef785fb-adda-421c-be41-a1dd397df692",
   "metadata": {},
   "outputs": [
    {
     "name": "stdout",
     "output_type": "stream",
     "text": [
      "['12th Century', '15th Century', '16th Century', '17th Century', '18th Century', '19th Century', '20th Century', '21st Century', 'Abuse', 'Academia', 'Academic', 'Action', 'Activism', 'Adhd', 'Adoption', 'Adult', 'Adult Fiction', 'Adventure', 'Africa', 'African American', 'African American Literature', 'African Literature', 'Agriculture', 'Alchemy', 'Algeria', 'Aliens', 'Alternate History', 'Alternate Universe', 'Amazon', 'American', 'American Civil War', 'American History', 'American Revolution', 'American Revolutionary War', 'Americana', 'Amish', 'Anarchism', 'Ancient', 'Ancient History', 'Angels', 'Animal Fiction', 'Animals', 'Anthologies', 'Anthropology', 'Anti Racist', 'Apocalyptic', 'Archaeology', 'Architecture', 'Art', 'Art Design', 'Art History', 'Arthurian', 'Artificial Intelligence', 'Asexual', 'Asia', 'Asian Literature', 'Astrology', 'Astronomy', 'Atheism', 'Audiobook', 'Australia', 'Autistic Spectrum Disorder', 'Autobiography', 'Aviation', 'BDSM', 'Bande Dessinée', 'Banned Books', 'Baseball', 'Basketball', 'Batman', 'Beauty and The Beast', 'Biblical Fiction', 'Biography', 'Biography Memoir', 'Biology', 'Birds', 'Bizarro Fiction', 'Boarding School', 'Book Club', 'Books About Books', 'Botswana', 'Brain', 'Brazil', 'British Literature', 'Buddhism', 'Buisness', 'Business', 'Canada', 'Canadian Literature', 'Catholic', 'Cats', 'Chapter Books', 'Chemistry', 'Chick Lit', 'Childrens', 'Childrens Classics', 'China', 'Chinese Literature', 'Christian', 'Christian Fantasy', 'Christian Fiction', 'Christian Historical Fiction', 'Christian Living', 'Christian Non Fiction', 'Christian Romance', 'Christianity', 'Christmas', 'Church', 'Cities', 'Civil War', 'Classic Literature', 'Classical Music', 'Classics', 'Clean Romance', 'Climate Change', 'Climate Change Fiction', 'Collections', 'College', 'Comedian', 'Comedy', 'Comic Book', 'Comic Strips', 'Comics', 'Coming Of Age', 'Comix', 'Communication', 'Computer Science', 'Conspiracy Theories', 'Contemporary', 'Contemporary Romance', 'Cookbooks', 'Cooking', 'Counselling', 'Counter Culture', 'Counting', 'Cozy Mystery', 'Crafts', 'Crime', 'Criticism', 'Cthulhu Mythos', 'Culinary', 'Cults', 'Cultural', 'Cyberpunk', 'Cycling', 'Czech Literature', 'Danish', 'Dark', 'Dark Fantasy', 'Dc Comics', 'Death', 'Demons', 'Denmark', 'Design', 'Detective', 'Diary', 'Diets', 'Dinosaurs', 'Disability', 'Divination', 'Divorce', 'Dogs', 'Dragonlance', 'Dragons', 'Drama', 'Drawing', 'Dungeons and Dragons', 'Dutch Literature', 'Dying Earth', 'Dystopia', 'Ecology', 'Economics', 'Education', 'Edwardian', 'Egypt', 'Egyptian Literature', 'Elves', 'Emotion', 'Engineering', 'English Literature', 'Entrepreneurship', 'Environment', 'Epic', 'Epic Fantasy', 'Erotic Romance', 'Erotica', 'Espionage', 'Essays', 'Ethiopia', 'Eugenics', 'European History', 'European Literature', 'Evolution', 'Fae', 'Fairies', 'Fairy Tale Retellings', 'Fairy Tales', 'Faith', 'Family', 'Fan Fiction', 'Fantasy', 'Fantasy Romance', 'Far Right', 'Fat', 'Fat Acceptance', 'Fat Studies', 'Female Authors', 'Feminism', 'Femme Femme', 'Fiction', 'Fighters', 'Figure Skating', 'Film', 'Finance', 'Finnish Literature', 'Fitness', 'Flash Fiction', 'Folk Tales', 'Folklore', 'Food', 'Food Writing', 'Food and Drink', 'Foodie', 'Football', 'Forgotten Realms', 'Fostering', 'France', 'French Literature', 'French Revolution', 'Futurism', 'Futuristic', 'Games', 'Gaming', 'Gardening', 'Gay', 'Gay Fiction', 'Gender', 'Gender Studies', 'Genderfluid', 'Genetics', 'Geography', 'Geology', 'German Literature', 'Germany', 'Ghana', 'Ghost Stories', 'Ghosts', 'Global Warming', 'Go', 'God', 'Gods', 'Gothic', 'Gothic Horror', 'Government', 'Graphic Novels', 'Graphic Novels Comics', 'Greece', 'Greek Mythology', 'Guidebook', 'Halloween', 'Hard Science Fiction', 'Health', 'Health Care', 'Heroic Fantasy', 'High Fantasy', 'High School', 'Hinduism', 'Hip Hop', 'Historical', 'Historical Fantasy', 'Historical Fiction', 'Historical Mystery', 'Historical Romance', 'History', 'History Of Science', 'Hockey', 'Holiday', 'Holocaust', 'Home Economics', 'Homeschool', 'Horror', 'Horse Racing', 'Horses', 'How To', 'Hugo Awards', 'Humor', 'Hungarian Literature', 'Hungary', 'Illness', 'India', 'Indian Literature', 'Indonesian Literature', 'Inspirational', 'International', 'International Development', 'International Relations', 'Internet', 'Iran', 'Ireland', 'Irish Literature', 'Islam', 'Israel', 'Italian Literature', 'Italy', 'Japan', 'Japanese Literature', 'Jewish', 'Josei', 'Journal', 'Journaling', 'Journalism', 'Judaica', 'Judaism', 'Juvenile', 'Kenya', 'Kids', 'LGBT', 'Language', 'Latin American', 'Latin American Literature', 'Law', 'Lds', 'Lds Fiction', 'Lds Non Fiction', 'Leadership', 'Lebanon', 'Legal Thriller', 'Lesbian', 'Lesbian Romance', 'Liberia', 'Light Novel', 'Linguistics', 'Literary Criticism', 'Literary Fiction', 'Literature', 'Logic', 'Love', 'Love Inspired', 'Love Inspired Historical', 'Love Inspired Suspense', 'Love Story', 'Lovecraftian', 'M F Romance', 'M M Contemporary', 'M M F', 'M M Romance', 'Magic', 'Magical Realism', 'Malawi', 'Management', 'Manga', 'Marathi', 'Maritime', 'Marriage', 'Martial Arts', 'Mathematics', 'Mauritius', 'Media Tie In', 'Medical', 'Medicine', 'Medieval', 'Medieval History', 'Medieval Romance', 'Memoir', 'Menage', 'Mental Health', 'Mental Illness', 'Mermaids', 'Metaphysics', 'Microhistory', 'Middle Grade', 'Military Fiction', 'Military History', 'Military Romance', 'Military Science Fiction', 'Modern', 'Modern Classics', 'Money', 'Monsters', 'Morocco', 'Mountaineering', 'Murder Mystery', 'Music', 'Musicals', 'Musicians', 'Mystery', 'Mystery Thriller', 'Mysticism', 'Mythology', 'Native American History', 'Native Americans', 'Natural History', 'Nature', 'Naval History', 'Neuroscience', 'New Adult', 'New Adult Romance', 'New Age', 'New Weird', 'New York', 'Nigeria', 'Nobel Prize', 'Noir', 'Nonfiction', 'Nordic Noir', 'Novella', 'Novels', 'Nursery Rhymes', 'Nutrition', 'Occult', 'Outdoors', 'Own', 'Paganism', 'Pakistan', 'Palaeontology', 'Paranormal', 'Paranormal Romance', 'Parenting', 'Personal Development', 'Personal Finance', 'Philosophy', 'Photography', 'Physics', 'Picture Books', 'Pirates', 'Plantagenet', 'Plays', 'Poetry', 'Poetry Plays', 'Poland', 'Police', 'Polish Literature', 'Political Science', 'Politics', 'Polyamory', 'Polygamy', 'Pop Culture', 'Popular Science', 'Portugal', 'Portuguese Literature', 'Post Apocalyptic', 'Poverty', 'Prayer', 'Prehistoric', 'Prehistory', 'Presidents', 'Princesses', 'Productivity', 'Programming', 'Prostitution', 'Psychiatry', 'Psychoanalysis', 'Psychological Thriller', 'Psychology', 'Pulp', 'Punk', 'Queer', 'Rabbits', 'Race', 'Read For School', 'Realistic Fiction', 'Reference', 'Regency', 'Regency Romance', 'Relationships', 'Religion', 'Research', 'Retellings', 'Reverse Harem', 'Robots', 'Rock N Roll', 'Roman', 'Romance', 'Romania', 'Romanian Literature', 'Romantic', 'Romantic Suspense', 'Romanticism', 'Russia', 'Russian History', 'Russian Literature', 'Russian Revolution', 'Rwanda', 'Satanism', 'Scandinavian Literature', 'School', 'School Stories', 'Science', 'Science Fiction', 'Science Fiction Fantasy', 'Science Fiction Romance', 'Scotland', 'Seinen', 'Self Help', 'Serbian Literature', 'Sexuality', 'Shapeshifters', 'Shojo', 'Short Stories', 'Short Story Collection', 'Sierra Leone', 'Singularity', 'Skepticism', 'Soccer', 'Social', 'Social Issues', 'Social Justice', 'Social Media', 'Social Science', 'Social Work', 'Society', 'Sociology', 'Software', 'Somalia', 'South Africa', 'Southern', 'Southern Gothic', 'Space', 'Space Opera', 'Spain', 'Spanish Civil War', 'Spanish Literature', 'Speculative Fiction', 'Spirituality', 'Splatterpunk', 'Sports', 'Sports Romance', 'Spy Thriller', 'Star Trek', 'Star Wars', 'Steampunk', 'Storytime', 'Street Art', 'Sudan', 'Superheroes', 'Superman', 'Supernatural', 'Surreal', 'Survival', 'Suspense', 'Sustainability', 'Sweden', 'Swedish Literature', 'Sword and Planet', 'Sword and Sorcery', 'Taoism', 'Tarot', 'Tasmania', 'Tea', 'Teaching', 'Technical', 'Technology', 'Teen', 'Terrorism', 'Textbooks', 'The United States Of America', 'The World', 'Theatre', 'Thelema', 'Theology', 'Theory', 'Thriller', 'Time Travel', 'Tragedy', 'Trains', 'Transgender', 'Transport', 'Travel', 'Travelogue', 'True Crime', 'True Story', 'Tudor Period', 'Turkish', 'Turkish Literature', 'Tv', 'Ukraine', 'Ukrainian Literature', 'Unfinished', 'Unicorns', 'United States', 'Urban', 'Urban Fantasy', 'Urban Planning', 'Urbanism', 'Us Presidents', 'Utopia', 'Vampires', 'Vegan', 'Vegetarian', 'Victorian', 'Video Games', 'War', 'Weird Fiction', 'Weird West', 'Werewolves', 'Westerns', 'Wicca', 'Wildlife', 'Witchcraft', 'Witches', 'Wolves', 'Womens', 'Womens Fiction', 'Womens Studies', 'World History', 'World War I', 'World War II', 'Writing', 'Young Adult', 'Young Adult Contemporary', 'Young Adult Fantasy', 'Young Adult Paranormal', 'Young Adult Romance', 'Young Readers', 'Zen', 'Zimbabwe', 'Zombies']\n"
     ]
    }
   ],
   "source": [
    "def convert_to_list(x):\n",
    "    if isinstance(x, str):\n",
    "        # If it's a string, attempt to parse it as a list\n",
    "        return ast.literal_eval(x)\n",
    "    elif isinstance(x, list):\n",
    "        # If it's already a list, return it as is\n",
    "        return x\n",
    "    else:\n",
    "        return []  # Handle any unexpected formats\n",
    "\n",
    "df['Genres'] = df['Genres'].apply(convert_to_list)\n",
    "\n",
    "unique_genres = set([genre for sublist in df['Genres'] for genre in sublist])\n",
    "\n",
    "unique_genre_list = sorted(list(unique_genres))\n",
    "\n",
    "print(unique_genre_list)"
   ]
  },
  {
   "cell_type": "code",
   "execution_count": 75,
   "id": "ed3ece52-6ded-48cd-b783-5d9c5687fd35",
   "metadata": {},
   "outputs": [],
   "source": [
    "def recommend(selected_genres):\n",
    "    user_profile = {genre: 1 if genre in selected_genres else 0 for genre in all_genres}\n",
    "    user_profile_vector = pd.DataFrame([user_profile])\n",
    "    \n",
    "    book_genre_vectors = df[list(all_genres)]\n",
    "    \n",
    "    similarity_scores = cosine_similarity(user_profile_vector, book_genre_vectors)\n",
    "    \n",
    "    df['matching_genres'] = df['Genres'].apply(lambda x: len(set(x) & set(selected_genres)))\n",
    "    \n",
    "    df['similarity'] = similarity_scores[0] + df['matching_genres']\n",
    "    \n",
    "    df_sorted = df.sort_values(by='similarity', ascending=False)\n",
    "    \n",
    "    df_filtered = df_sorted[df_sorted['matching_genres'] > 0]\n",
    "    \n",
    "    N = 3\n",
    "    top_recommendations = df_filtered[['Book', 'Genres', 'similarity']].head(N)\n",
    "    \n",
    "    print(top_recommendations)"
   ]
  },
  {
   "cell_type": "code",
   "execution_count": 73,
   "id": "e40e4c82-0b1f-4c47-8ddb-ceb00a4f41d5",
   "metadata": {},
   "outputs": [
    {
     "name": "stdout",
     "output_type": "stream",
     "text": [
      "                                            Book  \\\n",
      "2546                                    Not Okay   \n",
      "1403       A Little Pinprick (Rainey Paxton, #1)   \n",
      "2625  A Disturbed Girl's Guide to Curing Boredom   \n",
      "\n",
      "                                 Genres  similarity  \n",
      "2546      [Fiction, Dark, Contemporary]    2.666667  \n",
      "1403             [Fiction, Abuse, Dark]    2.666667  \n",
      "2625  [Fiction, Thriller, Horror, Dark]    2.577350  \n"
     ]
    }
   ],
   "source": [
    "user_genres = ['Academic', 'Fiction', 'Dark']\n",
    "recommend(user_genres)"
   ]
  },
  {
   "cell_type": "code",
   "execution_count": null,
   "id": "ed46a71c-e53c-41f5-84a9-e34fd95a9da9",
   "metadata": {},
   "outputs": [],
   "source": []
  }
 ],
 "metadata": {
  "kernelspec": {
   "display_name": "Python 3 (ipykernel)",
   "language": "python",
   "name": "python3"
  },
  "language_info": {
   "codemirror_mode": {
    "name": "ipython",
    "version": 3
   },
   "file_extension": ".py",
   "mimetype": "text/x-python",
   "name": "python",
   "nbconvert_exporter": "python",
   "pygments_lexer": "ipython3",
   "version": "3.12.4"
  }
 },
 "nbformat": 4,
 "nbformat_minor": 5
}
