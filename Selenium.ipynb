{
 "cells": [
  {
   "cell_type": "code",
   "execution_count": 24,
   "id": "c365169d-d7e0-42f4-9092-5a957e521c75",
   "metadata": {},
   "outputs": [
    {
     "name": "stdout",
     "output_type": "stream",
     "text": [
      "Requirement already satisfied: selenium in /opt/anaconda3/lib/python3.12/site-packages (4.25.0)\n",
      "Requirement already satisfied: urllib3<3,>=1.26 in /opt/anaconda3/lib/python3.12/site-packages (from urllib3[socks]<3,>=1.26->selenium) (2.2.2)\n",
      "Requirement already satisfied: trio~=0.17 in /opt/anaconda3/lib/python3.12/site-packages (from selenium) (0.27.0)\n",
      "Requirement already satisfied: trio-websocket~=0.9 in /opt/anaconda3/lib/python3.12/site-packages (from selenium) (0.11.1)\n",
      "Requirement already satisfied: certifi>=2021.10.8 in /opt/anaconda3/lib/python3.12/site-packages (from selenium) (2024.8.30)\n",
      "Requirement already satisfied: typing_extensions~=4.9 in /opt/anaconda3/lib/python3.12/site-packages (from selenium) (4.11.0)\n",
      "Requirement already satisfied: websocket-client~=1.8 in /opt/anaconda3/lib/python3.12/site-packages (from selenium) (1.8.0)\n",
      "Requirement already satisfied: attrs>=23.2.0 in /opt/anaconda3/lib/python3.12/site-packages (from trio~=0.17->selenium) (24.2.0)\n",
      "Requirement already satisfied: sortedcontainers in /opt/anaconda3/lib/python3.12/site-packages (from trio~=0.17->selenium) (2.4.0)\n",
      "Requirement already satisfied: idna in /opt/anaconda3/lib/python3.12/site-packages (from trio~=0.17->selenium) (3.7)\n",
      "Requirement already satisfied: outcome in /opt/anaconda3/lib/python3.12/site-packages (from trio~=0.17->selenium) (1.3.0.post0)\n",
      "Requirement already satisfied: sniffio>=1.3.0 in /opt/anaconda3/lib/python3.12/site-packages (from trio~=0.17->selenium) (1.3.0)\n",
      "Requirement already satisfied: wsproto>=0.14 in /opt/anaconda3/lib/python3.12/site-packages (from trio-websocket~=0.9->selenium) (1.2.0)\n",
      "Requirement already satisfied: pysocks!=1.5.7,<2.0,>=1.5.6 in /opt/anaconda3/lib/python3.12/site-packages (from urllib3[socks]<3,>=1.26->selenium) (1.7.1)\n",
      "Requirement already satisfied: h11<1,>=0.9.0 in /opt/anaconda3/lib/python3.12/site-packages (from wsproto>=0.14->trio-websocket~=0.9->selenium) (0.14.0)\n",
      "Note: you may need to restart the kernel to use updated packages.\n"
     ]
    }
   ],
   "source": [
    "pip install selenium"
   ]
  },
  {
   "cell_type": "code",
   "execution_count": 4,
   "id": "2c96e2fb-8bd7-416e-85bf-d96bf79a2c27",
   "metadata": {},
   "outputs": [],
   "source": [
    "from selenium.common.exceptions import NoSuchElementException\n",
    "from selenium.webdriver.support.ui import WebDriverWait\n",
    "from selenium.webdriver.support import expected_conditions as EC\n",
    "import dateutil.parser\n",
    "import time\n",
    "import csv\n",
    "from selenium.webdriver.chrome.service import Service\n",
    "from datetime import datetime\n",
    "import io\n",
    "from selenium import webdriver\n",
    "from selenium.webdriver.common.by import By\n",
    "import pandas as pd\n",
    "import time"
   ]
  },
  {
   "cell_type": "code",
   "execution_count": 8,
   "id": "232a716a-527e-464e-ad2e-ca24f9c8a77e",
   "metadata": {},
   "outputs": [],
   "source": [
    "chrome_driver_path = \"/usr/local/bin/chromedriver\"\n",
    "\n",
    "service = Service(chrome_driver_path)\n",
    "\n",
    "driver = webdriver.Chrome(service=service)\n",
    "\n",
    "driver.get(\"https://www.reuters.com/technology/\")"
   ]
  },
  {
   "cell_type": "code",
   "execution_count": null,
   "id": "07d980a5-84d8-4954-9ae8-03dbb8cc65ff",
   "metadata": {},
   "outputs": [],
   "source": [
    "ount = 0\n",
    "headlines = []\n",
    "dates = []\n",
    "\n",
    "for x in range(500):\n",
    "    try:\n",
    "        loadMoreButton = WebDriverWait(driver, 10).until(\n",
    "            EC.element_to_be_clickable((By.XPATH, \"//button[@data-testid='TextButton']\"))\n",
    "        )\n",
    "        time.sleep(2) \n",
    "        loadMoreButton.click()\n",
    "        print(\"clicked\")\n",
    "        \n",
    "        news_headlines = driver.find_elements(By.XPATH, \"//h3[@data-testid='Heading']//a[@data-testid='Link']\")\n",
    "        news_dates = driver.find_elements(By.XPATH, \"//time[@data-testid='Body']\")\n",
    "        \n",
    "        for headline in news_headlines:\n",
    "            headlines.append(headline.text)\n",
    "            print(\"Headline:\", headline.text)\n",
    "        \n",
    "        for date in news_dates:\n",
    "            dates.append(date.get_attribute(\"datetime\"))\n",
    "            print(\"Date:\", date.get_attribute(\"datetime\"))\n",
    "            count += 1\n",
    "            print(\"CLICKED!!:\", count)\n",
    "    \n",
    "    except Exception as e:\n",
    "        print(\"error\", e)\n",
    "        break\n",
    "\n",
    "driver.quit()\n",
    "\n",
    "data = pd.DataFrame({\n",
    "    \"Title\": titles,\n",
    "    \"Category\": [\"Technology\"] * len(titles)  # Adding \"Technology\" as category for all rows\n",
    "})\n",
    "data.to_csv(\"reuters_technology_articles.csv\", index=False)"
   ]
  },
  {
   "cell_type": "code",
   "execution_count": null,
   "id": "aafe1eec-392c-45f0-a3e7-9c66d1ea7f03",
   "metadata": {},
   "outputs": [],
   "source": [
    "#https://medium.com/analytics-vidhya/how-to-scrape-news-headlines-from-reuters-27c0274dc13c"
   ]
  }
 ],
 "metadata": {
  "kernelspec": {
   "display_name": "Python 3 (ipykernel)",
   "language": "python",
   "name": "python3"
  },
  "language_info": {
   "codemirror_mode": {
    "name": "ipython",
    "version": 3
   },
   "file_extension": ".py",
   "mimetype": "text/x-python",
   "name": "python",
   "nbconvert_exporter": "python",
   "pygments_lexer": "ipython3",
   "version": "3.12.4"
  }
 },
 "nbformat": 4,
 "nbformat_minor": 5
}
